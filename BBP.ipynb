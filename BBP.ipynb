{
  "nbformat": 4,
  "nbformat_minor": 0,
  "metadata": {
    "colab": {
      "provenance": [],
      "authorship_tag": "ABX9TyN8zNoJ8zlgN7Xnyg0TiNYG",
      "include_colab_link": true
    },
    "kernelspec": {
      "name": "julia-1.9",
      "display_name": "Julia 1.9.4"
    }
  },
  "cells": [
    {
      "cell_type": "markdown",
      "metadata": {
        "id": "view-in-github",
        "colab_type": "text"
      },
      "source": [
        "<a href=\"https://colab.research.google.com/github/mhpbreugem/WP1/blob/main/BBP.ipynb\" target=\"_parent\"><img src=\"https://colab.research.google.com/assets/colab-badge.svg\" alt=\"Open In Colab\"/></a>"
      ]
    },
    {
      "cell_type": "code",
      "source": [
        "using Distributions, Random, NLsolve, LinearAlgebra, Printf, Optim, BenchmarkTools"
      ],
      "metadata": {
        "id": "m6WaLxaNYZMz"
      },
      "execution_count": 40,
      "outputs": []
    },
    {
      "cell_type": "code",
      "execution_count": 41,
      "metadata": {
        "colab": {
          "base_uri": "https://localhost:8080/"
        },
        "id": "KUTXwhjJnQos",
        "outputId": "f98ad49e-f166-4057-b69e-97c1b2d3e679"
      },
      "outputs": [
        {
          "output_type": "execute_result",
          "data": {
            "text/plain": [
              "125"
            ]
          },
          "metadata": {},
          "execution_count": 41
        }
      ],
      "source": [
        "# Chapter 0: Parameters\n",
        "\n",
        "# Economic parameters\n",
        "β = 0.95\n",
        "γ = 4.0\n",
        "e0 = 3.0\n",
        "EΠ = 1.0\n",
        "Π0 = 1.0\n",
        "θXbar = 1.0\n",
        "θYbar = 1.0\n",
        "μθX = 0.0\n",
        "σθX = 0.2\n",
        "μθY = 0.0\n",
        "σθY = 0.1\n",
        "Nσπ = 2\n",
        "σΠ = 0.4\n",
        "ρ = 0\n",
        "W0 = e0\n",
        "\n",
        "ΞЮ = [repeat([x], 1) for x in range(0.1, stop=1.0, length=10)]\n",
        "\n",
        "# Grid parameters\n",
        "Nσπ = 17\n",
        "NNσπ = 1\n",
        "Nπ = 2 * Nσπ * NNσπ + 1  # number of grid points for payoff\n",
        "\n",
        "NσΠ = 2\n",
        "NNσΠ = 1\n",
        "NΠ = 2 * NσΠ * NNσΠ + 1  # number of grid points for payoff\n",
        "\n",
        "NθX = 5\n",
        "NθY = 5\n",
        "NσθX = 2\n",
        "NσθY = 2\n",
        "\n",
        "# Derived midpoints\n",
        "μπi = (Nπ + 1) ÷ 2\n",
        "μΠi = (NΠ + 1) ÷ 2\n",
        "μθXi = (NθX + 1) ÷ 2\n",
        "\n",
        "# Total number of states\n",
        "NS = Nπ\n",
        "NN = NθX * NθY * NΠ"
      ]
    },
    {
      "cell_type": "code",
      "source": [
        "# Chapter 1: Grid Construction\n",
        "\n",
        "# Conjectured Payoffs\n",
        "ππ = collect(range(EΠ - Nσπ*σΠ, EΠ + Nσπ*σΠ, length=Nπ))\n",
        "πω = pdf.(Normal(EΠ, σΠ), ππ)\n",
        "πΩ = πω ./ sum(πω)\n",
        "\n",
        "# Payoff Parameters\n",
        "Δ1 = Π0\n",
        "Δ2 = ππ\n",
        "\n",
        "# True Payoffs\n",
        "ΞΠ = EΠ .+ σΠ .* range(-NσΠ, NσΠ, length=NΠ)\n",
        "ππ_to_index = Dict(round(ππ[πi], digits=8) => πi for πi in 1:Nπ)\n",
        "ΞΠi = [ππ_to_index[round(ΞΠ[Πi], digits=8)] for Πi in 1:NΠ]\n",
        "\n",
        "# Signals\n",
        "S=ππ\n",
        "\n",
        "@inline function ψϵω(Ю, ϵ)\n",
        "    σϵ = 1 / sqrt(Ю)\n",
        "    pdf(Normal(0.0, σϵ), ϵ)\n",
        "end\n",
        "\n",
        "function φSΩπ(Ю)\n",
        "    σϵ = 1 / sqrt(Ю[1])\n",
        "    SΩ = [pdf(Normal(π, σϵ), s) for π in ππ, s in ππ]\n",
        "    SΩnorm = SΩ ./ sum(SΩ, dims=2)\n",
        "    return SΩnorm\n",
        "end\n",
        "\n",
        "# Noise Trader Demand\n",
        "ΞθX = μθX .+ σθX .* range(-NσθX, NσθX, length=NθX)\n",
        "ΞθY = μθY .+ σθY .* range(-NσθY, NσθY, length=NθY)\n",
        "\n",
        "const Σθ = [σθX^2 σθX*σθY*ρ; σθX*σθY*ρ σθY^2]\n",
        "const dist = MvNormal([μθX, μθY], Σθ)\n",
        "θXYωω(x, y) = pdf(dist, [x, y])"
      ],
      "metadata": {
        "id": "WOZOfb6dYoVq",
        "colab": {
          "base_uri": "https://localhost:8080/"
        },
        "outputId": "f17e454a-5365-408a-ae95-805c54cde4ea"
      },
      "execution_count": 44,
      "outputs": [
        {
          "output_type": "stream",
          "name": "stderr",
          "text": [
            "WARNING: redefinition of constant Σθ. This may fail, cause incorrect answers, or produce other errors.\n",
            "WARNING: redefinition of constant dist. This may fail, cause incorrect answers, or produce other errors.\n"
          ]
        },
        {
          "output_type": "execute_result",
          "data": {
            "text/plain": [
              "θXYωω (generic function with 1 method)"
            ]
          },
          "metadata": {},
          "execution_count": 44
        }
      ]
    },
    {
      "cell_type": "code",
      "source": [
        "# Chapter 2: Learning\n",
        "\n",
        "# Full learning (private + public information)\n",
        "function φΞΩI(Ю, XΣ, YΣ)\n",
        "    ϵ = S .- ππ'\n",
        "    ψϵ_values = ψϵω.(Ю, ϵ)\n",
        "    θXY_values = θXYωω.(θXbar .- XΣ, θYbar .- YΣ)\n",
        "\n",
        "    ΞΩI = πΩ .* ψϵ_values .* θXY_values\n",
        "    sum_ΞΩI = sum(ΞΩI, dims=1)\n",
        "    ΞΩI .= ΞΩI ./ sum_ΞΩI\n",
        "\n",
        "    return ΞΩI\n",
        "end"
      ],
      "metadata": {
        "colab": {
          "base_uri": "https://localhost:8080/"
        },
        "id": "QEq87LzBhf_l",
        "outputId": "2168f414-f7cf-4090-f3a7-34d5a0459273"
      },
      "execution_count": 45,
      "outputs": [
        {
          "output_type": "execute_result",
          "data": {
            "text/plain": [
              "φΞΩI (generic function with 1 method)"
            ]
          },
          "metadata": {},
          "execution_count": 45
        }
      ]
    },
    {
      "cell_type": "code",
      "source": [
        "@btime φΞΩI([0.1], fill(1,NS), fill(1,NS))"
      ],
      "metadata": {
        "colab": {
          "base_uri": "https://localhost:8080/"
        },
        "id": "FqmHUDvkh50R",
        "outputId": "986af62d-7b38-4804-dbf8-309185582aed"
      },
      "execution_count": 23,
      "outputs": [
        {
          "output_type": "stream",
          "name": "stdout",
          "text": [
            "  17.292 μs (165 allocations: 39.92 KiB)\n"
          ]
        },
        {
          "output_type": "execute_result",
          "data": {
            "text/plain": [
              "35×35 Matrix{Float64}:\n",
              " 6.87196e-63  5.25724e-63  4.02093e-63  …  8.72286e-67  6.61798e-67\n",
              " 9.9877e-56   7.76411e-56  6.03404e-56     2.14957e-59  1.65717e-59\n",
              " 5.25541e-49  4.15128e-49  3.27829e-49     1.91779e-52  1.50232e-52\n",
              " 1.00116e-42  8.03579e-43  6.44826e-43     6.19449e-46  4.93081e-46\n",
              " 6.90494e-37  5.63161e-37  4.59193e-37     7.24383e-40  5.85908e-40\n",
              " 1.72414e-31  1.42887e-31  1.18387e-31  …  3.06681e-34  2.52056e-34\n",
              " 1.55862e-26  1.31253e-26  1.10502e-26     4.70071e-29  3.92575e-29\n",
              " 5.10112e-22  4.365e-22    3.73416e-22     2.60853e-24  2.21362e-24\n",
              " 6.04433e-18  5.25551e-18  4.56849e-18     5.24066e-20  4.519e-20\n",
              " 2.59291e-14  2.29088e-14  2.02353e-14     3.81182e-16  3.33993e-16\n",
              " 4.02701e-11  3.61533e-11  3.24491e-11  …  1.00377e-12  8.93695e-13\n",
              " 2.26431e-8   2.06561e-8   1.88388e-8      9.56965e-10  8.65762e-10\n",
              " 4.60941e-6   4.27275e-6   3.95968e-6      3.30304e-7   3.03644e-7\n",
              " ⋮                                      ⋱               \n",
              " 8.65762e-10  9.56965e-10  1.05751e-9      2.06561e-8   2.26431e-8\n",
              " 8.93695e-13  1.00377e-12  1.12713e-12     3.61533e-11  4.02701e-11\n",
              " 3.33993e-16  3.81182e-16  4.34929e-16  …  2.29088e-14  2.59291e-14\n",
              " 4.519e-20    5.24066e-20  6.07604e-20     5.25551e-18  6.04433e-18\n",
              " 2.21362e-24  2.60853e-24  3.07312e-24     4.365e-22    5.10112e-22\n",
              " 3.92575e-29  4.70071e-29  5.62724e-29     1.31253e-26  1.55862e-26\n",
              " 2.52056e-34  3.06681e-34  3.73051e-34     1.42887e-31  1.72414e-31\n",
              " 5.85908e-40  7.24383e-40  8.9536e-40   …  5.63161e-37  6.90494e-37\n",
              " 4.93081e-46  6.19449e-46  7.78007e-46     8.03579e-43  1.00116e-42\n",
              " 1.50232e-52  1.91779e-52  2.44752e-52     4.15128e-49  5.25541e-49\n",
              " 1.65717e-59  2.14957e-59  2.78758e-59     7.76411e-56  9.9877e-56\n",
              " 6.61798e-67  8.72286e-67  1.14943e-66     5.25724e-63  6.87196e-63"
            ]
          },
          "metadata": {},
          "execution_count": 23
        }
      ]
    },
    {
      "cell_type": "code",
      "source": [
        "\n"
      ],
      "metadata": {
        "colab": {
          "base_uri": "https://localhost:8080/"
        },
        "id": "fofw8OZGieth",
        "outputId": "25e74c27-4de6-4ebd-a81e-7d742bf9f859"
      },
      "execution_count": 24,
      "outputs": [
        {
          "output_type": "execute_result",
          "data": {
            "text/plain": [
              "1×35 Matrix{Float64}:\n",
              " 0.0  0.0  0.0  0.0  0.0  0.0  0.0  0.0  …  0.0  0.0  0.0  0.0  0.0  0.0  0.0"
            ]
          },
          "metadata": {},
          "execution_count": 24
        }
      ]
    },
    {
      "cell_type": "code",
      "source": [
        "# === Cached Struct and Optimized Function Implementation === #\n",
        "\n",
        "mutable struct CachedΞΩI\n",
        "    cached_ϵ::Matrix{Float64}\n",
        "    cached_ψϵ_values::Matrix{Float64}\n",
        "    cached_θXY_values::Matrix{Float64}\n",
        "    cached_ΞΩI::Matrix{Float64}\n",
        "    cached_sum_ΞΩI::Matrix{Float64}\n",
        "end\n",
        "\n",
        "function CachedΞΩI(S, ππ)\n",
        "    NS, Nπ = length(S), length(ππ)\n",
        "    CachedΞΩI(\n",
        "        zeros(NS, Nπ),\n",
        "        zeros(NS, Nπ),\n",
        "        zeros(NS, Nπ),\n",
        "        zeros(NS, Nπ),\n",
        "        zeros(1, Nπ)\n",
        "    )\n",
        "end\n",
        "\n",
        "# Marking functions with @inline for efficiency\n",
        "@inline function ψϵω(Ю, ϵ)\n",
        "    σϵ = 1 / sqrt(Ю)\n",
        "    pdf(Normal(0.0, σϵ), ϵ)\n",
        "end\n",
        "\n",
        "const θ_dist = MvNormal([μθX, μθY], [σθX^2 σθX*σθY*ρ; σθX*σθY*ρ σθY^2])\n",
        "\n",
        "@inline function θXYωω(x, y)\n",
        "    pdf(θ_dist, [x, y])\n",
        "end\n",
        "\n",
        "# Optimized cached function using struct-based caching\n",
        "function φΞΩI!(cache::CachedΞΩI, Ю, XΣ, YΣ)\n",
        "    @. cache.cached_ϵ = S - ππ'\n",
        "\n",
        "    σϵ = 1 / sqrt(Ю)\n",
        "    @inbounds for i in eachindex(cache.cached_ϵ)\n",
        "        cache.cached_ψϵ_values[i] = ψϵω(Ю, cache.cached_ϵ[i])\n",
        "    end\n",
        "\n",
        "    @inbounds for i in eachindex(XΣ)\n",
        "        val = θXYωω(θXbar - XΣ[i], θYbar - YΣ[i])\n",
        "        cache.cached_θXY_values[i, :] .= val\n",
        "    end\n",
        "\n",
        "    @. cache.cached_ΞΩI = πΩ * cache.cached_ψϵ_values * cache.cached_θXY_values\n",
        "\n",
        "    cache.cached_sum_ΞΩI .= sum(cache.cached_ΞΩI, dims=1)\n",
        "    cache.cached_ΞΩI ./= cache.cached_sum_ΞΩI\n",
        "\n",
        "    return cache.cached_ΞΩI\n",
        "end\n",
        "\n",
        "# Initialize cache once\n",
        "cache = CachedΞΩI(S, ππ)\n",
        "\n",
        "# Benchmark clearly to confirm efficiency\n",
        "using BenchmarkTools\n",
        "@btime φΞΩI!($cache, 0.1, fill(1,NS), fill(1,NS))\n"
      ],
      "metadata": {
        "colab": {
          "base_uri": "https://localhost:8080/"
        },
        "id": "_RWWhw8kihGR",
        "outputId": "c607a299-4057-446c-a269-d58be25b3d13"
      },
      "execution_count": 54,
      "outputs": [
        {
          "output_type": "stream",
          "name": "stdout",
          "text": [
            "  24.927 μs (358 allocations: 14.25 KiB)\n"
          ]
        },
        {
          "output_type": "stream",
          "name": "stderr",
          "text": [
            "WARNING: redefinition of constant θ_dist. This may fail, cause incorrect answers, or produce other errors.\n"
          ]
        },
        {
          "output_type": "execute_result",
          "data": {
            "text/plain": [
              "35×35 Matrix{Float64}:\n",
              " 6.87196e-63  5.25724e-63  4.02093e-63  …  8.72286e-67  6.61798e-67\n",
              " 9.9877e-56   7.76411e-56  6.03404e-56     2.14957e-59  1.65717e-59\n",
              " 5.25541e-49  4.15128e-49  3.27829e-49     1.91779e-52  1.50232e-52\n",
              " 1.00116e-42  8.03579e-43  6.44826e-43     6.19449e-46  4.93081e-46\n",
              " 6.90494e-37  5.63161e-37  4.59193e-37     7.24383e-40  5.85908e-40\n",
              " 1.72414e-31  1.42887e-31  1.18387e-31  …  3.06681e-34  2.52056e-34\n",
              " 1.55862e-26  1.31253e-26  1.10502e-26     4.70071e-29  3.92575e-29\n",
              " 5.10112e-22  4.365e-22    3.73416e-22     2.60853e-24  2.21362e-24\n",
              " 6.04433e-18  5.25551e-18  4.56849e-18     5.24066e-20  4.519e-20\n",
              " 2.59291e-14  2.29088e-14  2.02353e-14     3.81182e-16  3.33993e-16\n",
              " 4.02701e-11  3.61533e-11  3.24491e-11  …  1.00377e-12  8.93695e-13\n",
              " 2.26431e-8   2.06561e-8   1.88388e-8      9.56965e-10  8.65762e-10\n",
              " 4.60941e-6   4.27275e-6   3.95968e-6      3.30304e-7   3.03644e-7\n",
              " ⋮                                      ⋱               \n",
              " 8.65762e-10  9.56965e-10  1.05751e-9      2.06561e-8   2.26431e-8\n",
              " 8.93695e-13  1.00377e-12  1.12713e-12     3.61533e-11  4.02701e-11\n",
              " 3.33993e-16  3.81182e-16  4.34929e-16  …  2.29088e-14  2.59291e-14\n",
              " 4.519e-20    5.24066e-20  6.07604e-20     5.25551e-18  6.04433e-18\n",
              " 2.21362e-24  2.60853e-24  3.07312e-24     4.365e-22    5.10112e-22\n",
              " 3.92575e-29  4.70071e-29  5.62724e-29     1.31253e-26  1.55862e-26\n",
              " 2.52056e-34  3.06681e-34  3.73051e-34     1.42887e-31  1.72414e-31\n",
              " 5.85908e-40  7.24383e-40  8.9536e-40   …  5.63161e-37  6.90494e-37\n",
              " 4.93081e-46  6.19449e-46  7.78007e-46     8.03579e-43  1.00116e-42\n",
              " 1.50232e-52  1.91779e-52  2.44752e-52     4.15128e-49  5.25541e-49\n",
              " 1.65717e-59  2.14957e-59  2.78758e-59     7.76411e-56  9.9877e-56\n",
              " 6.61798e-67  8.72286e-67  1.14943e-66     5.25724e-63  6.87196e-63"
            ]
          },
          "metadata": {},
          "execution_count": 54
        }
      ]
    },
    {
      "cell_type": "code",
      "source": [
        "@btime φΞΩI_cached_final(0.1, fill(1,NS), fill(1,NS), $cached_ϵ, $cached_ψϵ_values, $cached_θXY_values, $cached_ΞΩI, $cached_sum_ΞΩI)\n"
      ],
      "metadata": {
        "colab": {
          "base_uri": "https://localhost:8080/"
        },
        "id": "_sxYqNXhii2i",
        "outputId": "3bfd13e5-a446-46c6-f912-4ec4bfbe74b6"
      },
      "execution_count": 37,
      "outputs": [
        {
          "output_type": "stream",
          "name": "stdout",
          "text": [
            "  21.306 μs (358 allocations: 14.25 KiB)\n"
          ]
        },
        {
          "output_type": "execute_result",
          "data": {
            "text/plain": [
              "35×35 Matrix{Float64}:\n",
              " 6.87196e-63  5.25724e-63  4.02093e-63  …  8.72286e-67  6.61798e-67\n",
              " 9.9877e-56   7.76411e-56  6.03404e-56     2.14957e-59  1.65717e-59\n",
              " 5.25541e-49  4.15128e-49  3.27829e-49     1.91779e-52  1.50232e-52\n",
              " 1.00116e-42  8.03579e-43  6.44826e-43     6.19449e-46  4.93081e-46\n",
              " 6.90494e-37  5.63161e-37  4.59193e-37     7.24383e-40  5.85908e-40\n",
              " 1.72414e-31  1.42887e-31  1.18387e-31  …  3.06681e-34  2.52056e-34\n",
              " 1.55862e-26  1.31253e-26  1.10502e-26     4.70071e-29  3.92575e-29\n",
              " 5.10112e-22  4.365e-22    3.73416e-22     2.60853e-24  2.21362e-24\n",
              " 6.04433e-18  5.25551e-18  4.56849e-18     5.24066e-20  4.519e-20\n",
              " 2.59291e-14  2.29088e-14  2.02353e-14     3.81182e-16  3.33993e-16\n",
              " 4.02701e-11  3.61533e-11  3.24491e-11  …  1.00377e-12  8.93695e-13\n",
              " 2.26431e-8   2.06561e-8   1.88388e-8      9.56965e-10  8.65762e-10\n",
              " 4.60941e-6   4.27275e-6   3.95968e-6      3.30304e-7   3.03644e-7\n",
              " ⋮                                      ⋱               \n",
              " 8.65762e-10  9.56965e-10  1.05751e-9      2.06561e-8   2.26431e-8\n",
              " 8.93695e-13  1.00377e-12  1.12713e-12     3.61533e-11  4.02701e-11\n",
              " 3.33993e-16  3.81182e-16  4.34929e-16  …  2.29088e-14  2.59291e-14\n",
              " 4.519e-20    5.24066e-20  6.07604e-20     5.25551e-18  6.04433e-18\n",
              " 2.21362e-24  2.60853e-24  3.07312e-24     4.365e-22    5.10112e-22\n",
              " 3.92575e-29  4.70071e-29  5.62724e-29     1.31253e-26  1.55862e-26\n",
              " 2.52056e-34  3.06681e-34  3.73051e-34     1.42887e-31  1.72414e-31\n",
              " 5.85908e-40  7.24383e-40  8.9536e-40   …  5.63161e-37  6.90494e-37\n",
              " 4.93081e-46  6.19449e-46  7.78007e-46     8.03579e-43  1.00116e-42\n",
              " 1.50232e-52  1.91779e-52  2.44752e-52     4.15128e-49  5.25541e-49\n",
              " 1.65717e-59  2.14957e-59  2.78758e-59     7.76411e-56  9.9877e-56\n",
              " 6.61798e-67  8.72286e-67  1.14943e-66     5.25724e-63  6.87196e-63"
            ]
          },
          "metadata": {},
          "execution_count": 37
        }
      ]
    },
    {
      "cell_type": "code",
      "source": [
        "# Chapter 3: System of Equations\n",
        "ΣW0 = W0\n",
        "\n",
        "function φSYS(Ж, Ю, Б)\n",
        "    X = Ж[1:NS]\n",
        "    C1 = Ж[NS+1:2*NS]\n",
        "    PX, PY = Ж[2*NS+1:2*NS+2]\n",
        "\n",
        "    Πi = Б[1]\n",
        "    θX = ΞθX[Б[2]]\n",
        "    θY = ΞθY[Б[3]]\n",
        "\n",
        "    # Conditional Expected Quantities\n",
        "    SΩπ = φSΩπ(Ю)\n",
        "    SΩ_X_sum = sum(SΩπ .* X', dims=2)\n",
        "    SΩ_C1_sum = sum(SΩπ .* C1', dims=2)\n",
        "\n",
        "    # Aggregate Demand\n",
        "    XΣ = SΩ_X_sum\n",
        "    YΣ = (ΣW0 .- PX .* XΣ .- SΩ_C1_sum) ./ PY\n",
        "\n",
        "    # Learning\n",
        "    Ω = φΞΩI(Ю, XΣ, YΣ)\n",
        "\n",
        "    # FOC's\n",
        "    C2_values = (W0 .- PX .* X' .- C1') ./ PY .+ X' .* Δ2\n",
        "    FOCX_values = β .* sum(Ω .* exp.(-γ .* C2_values) .* (-PX ./ PY .+ Δ2), dims=1)\n",
        "    FOCC1_values = exp.(-γ .* C1') + β .* sum(Ω .* exp.(-γ .* C2_values) .* (-1.0 ./ PY), dims=1)\n",
        "\n",
        "    # Market Clearing\n",
        "    MCX = XΣ[ΞΠi[Πi]] - (θXbar - θX)\n",
        "    MCY = YΣ[ΞΠi[Πi]] - (θYbar - θY)\n",
        "\n",
        "    return vcat(FOCX_values', FOCC1_values', MCX, MCY)\n",
        "end"
      ],
      "metadata": {
        "colab": {
          "base_uri": "https://localhost:8080/"
        },
        "id": "QpwmVwnX5DIT",
        "outputId": "0589d2cd-1076-4671-8881-80560b6c8b89"
      },
      "execution_count": 46,
      "outputs": [
        {
          "output_type": "execute_result",
          "data": {
            "text/plain": [
              "φSYS (generic function with 1 method)"
            ]
          },
          "metadata": {},
          "execution_count": 46
        }
      ]
    },
    {
      "cell_type": "code",
      "source": [
        "# Chapter 4: Zero-Info Starting Point (ξ)\n",
        "W0ξ = W0\n",
        "\n",
        "# Fixed Point Zero info\n",
        "function φSYSξ(Жξ,Б)\n",
        "    PXξ, PYξ = Жξ[1:2]\n",
        "    θX = ΞθX[Б[2]]\n",
        "    θY = ΞθY[Б[3]]\n",
        "\n",
        "    # Direct solution of MC's\n",
        "    Xξ = (θXbar - θX)\n",
        "    C1ξ = W0ξ - PXξ * (θXbar - θX) - PYξ *(θYbar - θY)\n",
        "\n",
        "    # FOC's\n",
        "    C2ξ_values = (W0ξ - PXξ * Xξ - C1ξ) / PYξ  .+ Xξ .* Δ2\n",
        "    FOCXξ_values = β .* sum(πΩ .* exp.(-γ .* C2ξ_values) .* (-PXξ ./ PYξ .+ Δ2), dims=1)\n",
        "    FOCC1ξ_values = exp.(-γ .* C1ξ) .+ β .* sum(πΩ .* exp.(-γ .* C2ξ_values) .* (-1.0 ./ PYξ), dims=1)\n",
        "\n",
        "    return vcat(FOCXξ_values, FOCC1ξ_values)\n",
        "end\n",
        "\n",
        "# Starting Point of Full Code\n",
        "function φЖ0(Б)\n",
        "    θXi, θYi = Б[2], Б[3]\n",
        "    θX = ΞθX[θXi]\n",
        "    θY = ΞθY[θYi]\n",
        "    solξ = nlsolve(Жξ -> φSYSξ(Жξ, [0, θXi, θYi]), [0.6, 0.7])\n",
        "    PXξ, PYξ = solξ.zero\n",
        "    Ж = zeros(2 * NS + 2)\n",
        "    Ж[1:NS] .= θXbar - θX\n",
        "    Ж[NS+1:2*NS] .= W0ξ .- PXξ * (θXbar .- θX) .- PYξ * (θYbar .- θY)\n",
        "    Ж[2*NS+1:2*NS+2] .= [PXξ, PYξ]\n",
        "    return Ж\n",
        "end\n"
      ],
      "metadata": {
        "id": "nXN8KOCwMNWS",
        "colab": {
          "base_uri": "https://localhost:8080/"
        },
        "outputId": "6c6c9255-4428-4947-d9f0-8a889b44ec0f"
      },
      "execution_count": 49,
      "outputs": [
        {
          "output_type": "execute_result",
          "data": {
            "text/plain": [
              "φЖ0 (generic function with 1 method)"
            ]
          },
          "metadata": {},
          "execution_count": 49
        }
      ]
    },
    {
      "cell_type": "code",
      "source": [
        "# Chapter 5: Solution over grid\n",
        "\n",
        "sol_zeros = Array{Array{Float64}, 3}(undef, NΠ, NθX, NθY)\n",
        "\n",
        "for Πi in 1:NΠ\n",
        "    for θXi in 1:NθX\n",
        "        for θYi in 1:NθY\n",
        "            Ж_ini = φЖ0([Πi, θXi, θYi])\n",
        "            for Ю_value in range(0.1, stop=1, length=7)\n",
        "                print(\"\\rProcessing: Πi = $Πi, θXi = $θXi, θYi = $θYi, Ю_value = $Ю_value\")\n",
        "                flush(stdout)\n",
        "                sol = nlsolve(Ж -> φSYS(Ж, [Ю_value], [Πi, θXi, θYi]), Ж_ini)\n",
        "                Ж_ini = sol.zero\n",
        "            end\n",
        "        end\n",
        "    end\n",
        "end\n"
      ],
      "metadata": {
        "colab": {
          "base_uri": "https://localhost:8080/"
        },
        "id": "7_O64mPU14_R",
        "outputId": "738ffe74-7f09-4177-e2b3-6511216235e5"
      },
      "execution_count": 50,
      "outputs": [
        {
          "output_type": "stream",
          "name": "stdout",
          "text": [
            "Processing: Πi = 5, θXi = 5, θYi = 5, Ю_value = 1.0"
          ]
        }
      ]
    },
    {
      "cell_type": "markdown",
      "source": [
        "\n",
        "\n",
        "---\n",
        "\n"
      ],
      "metadata": {
        "id": "czY73ZjbDCmv"
      }
    }
  ]
}