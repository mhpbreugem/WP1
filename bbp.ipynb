{
  "nbformat": 4,
  "nbformat_minor": 0,
  "metadata": {
    "colab": {
      "provenance": [],
      "authorship_tag": "ABX9TyPb55nJaN3yCwU1fLUd/upd",
      "include_colab_link": true
    },
    "kernelspec": {
      "name": "julia-1.9",
      "display_name": "Julia 1.9.4"
    }
  },
  "cells": [
    {
      "cell_type": "markdown",
      "metadata": {
        "id": "view-in-github",
        "colab_type": "text"
      },
      "source": [
        "<a href=\"https://colab.research.google.com/github/mhpbreugem/WP1/blob/main/bbp.ipynb\" target=\"_parent\"><img src=\"https://colab.research.google.com/assets/colab-badge.svg\" alt=\"Open In Colab\"/></a>"
      ]
    },
    {
      "cell_type": "code",
      "source": [
        "using Distributions, Random, NLsolve, LinearAlgebra, Printf, Optim, BenchmarkTools"
      ],
      "metadata": {
        "id": "m6WaLxaNYZMz"
      },
      "execution_count": 1,
      "outputs": []
    },
    {
      "cell_type": "code",
      "execution_count": 2,
      "metadata": {
        "colab": {
          "base_uri": "https://localhost:8080/"
        },
        "id": "KUTXwhjJnQos",
        "outputId": "e45356ff-e54f-4f18-ac8d-59714dbade8f"
      },
      "outputs": [
        {
          "output_type": "execute_result",
          "data": {
            "text/plain": [
              "125"
            ]
          },
          "metadata": {},
          "execution_count": 2
        }
      ],
      "source": [
        "# Chapter 0: Parameters\n",
        "\n",
        "# Economic parameters\n",
        "const β = 0.95\n",
        "const γ = 4.0\n",
        "const e0 = 3.0\n",
        "const EΠ = 1.0\n",
        "const Π0 = 1.0\n",
        "const θXbar = 1.0\n",
        "const θYbar = 1.0\n",
        "const μθX = 0.0\n",
        "const σθX = 0.2\n",
        "const μθY = 0.0\n",
        "const σθY = 0.1\n",
        "const Nσπ = 2\n",
        "const σΠ = 0.4\n",
        "const ρ = 0\n",
        "const W0 = e0\n",
        "\n",
        "const ΞЮ = [repeat([x], 1) for x in range(0.1, stop=1.0, length=10)]\n",
        "\n",
        "# Grid parameters\n",
        "const Nσπ = 17\n",
        "const NNσπ = 1\n",
        "const Nπ = 2 * Nσπ * NNσπ + 1  # number of grid points for payoff\n",
        "\n",
        "const NσΠ = 2\n",
        "const NNσΠ = 1\n",
        "const NΠ = 2 * NσΠ * NNσΠ + 1  # number of grid points for payoff\n",
        "\n",
        "const NθX = 5\n",
        "const NθY = 5\n",
        "const NσθX = 2\n",
        "const NσθY = 2\n",
        "\n",
        "# Derived midpoints\n",
        "const μπi = (Nπ + 1) ÷ 2\n",
        "const μΠi = (NΠ + 1) ÷ 2\n",
        "const μθXi = (NθX + 1) ÷ 2\n",
        "\n",
        "# Total number of states\n",
        "const NS = Nπ\n",
        "const NN = NθX * NθY * NΠ"
      ]
    },
    {
      "cell_type": "code",
      "source": [
        "# Chapter 1: Grid Construction\n",
        "\n",
        "# Conjectured Payoffs\n",
        "const ππ = collect(range(EΠ - Nσπ*σΠ, EΠ + Nσπ*σΠ, length=Nπ))\n",
        "const πω = pdf.(Normal(EΠ, σΠ), ππ)\n",
        "const πΩ = πω ./ sum(πω)\n",
        "\n",
        "# Payoff Parameters\n",
        "const Δ1 = Π0\n",
        "const Δ2 = ππ\n",
        "\n",
        "# True Payoffs\n",
        "const ΞΠ = EΠ .+ σΠ .* range(-NσΠ, NσΠ, length=NΠ)\n",
        "const ππ_to_index = Dict(round(ππ[πi], digits=8) => πi for πi in 1:Nπ)\n",
        "const ΞΠi = [ππ_to_index[round(ΞΠ[Πi], digits=8)] for Πi in 1:NΠ]\n",
        "\n",
        "# Signals\n",
        "const S = ππ\n",
        "\n",
        "@inline function ψϵω(Ю, ϵ)\n",
        "    σϵ = 1 / sqrt(Ю)\n",
        "    pdf(Normal(0.0, σϵ), ϵ)\n",
        "end\n",
        "\n",
        "function φSΩπ(Ю)\n",
        "    σϵ = 1 / sqrt(Ю[1])\n",
        "    SΩ = [pdf(Normal(π, σϵ), s) for π in ππ, s in ππ]\n",
        "    SΩnorm = SΩ ./ sum(SΩ, dims=2)\n",
        "    return SΩnorm\n",
        "end\n",
        "\n",
        "# Noise Trader Demand\n",
        "const ΞθX = μθX .+ σθX .* range(-NσθX, NσθX, length=NθX)\n",
        "const ΞθY = μθY .+ σθY .* range(-NσθY, NσθY, length=NθY)\n",
        "\n",
        "const Σθ = [σθX^2 σθX*σθY*ρ; σθX*σθY*ρ σθY^2]\n",
        "const dist = MvNormal([μθX, μθY], Σθ)\n",
        "θXYωω(x, y) = pdf(dist, [x, y])"
      ],
      "metadata": {
        "id": "WOZOfb6dYoVq",
        "colab": {
          "base_uri": "https://localhost:8080/"
        },
        "outputId": "706d674d-74e7-4da5-8042-5240017c07cd"
      },
      "execution_count": 3,
      "outputs": [
        {
          "output_type": "execute_result",
          "data": {
            "text/plain": [
              "θXYωω (generic function with 1 method)"
            ]
          },
          "metadata": {},
          "execution_count": 3
        }
      ]
    },
    {
      "cell_type": "code",
      "source": [
        "# Chapter 2: Learning\n",
        "\n",
        "# Full learning (private + public information)\n",
        "function φΞΩI(Ю, XΣ, YΣ)\n",
        "    ϵ = S .- ππ'\n",
        "    ψϵ_values = ψϵω.(Ю, ϵ)\n",
        "    θXY_values = θXYωω.(θXbar .- XΣ, θYbar .- YΣ)\n",
        "\n",
        "    ΞΩI = πΩ .* ψϵ_values .* θXY_values\n",
        "    sum_ΞΩI = sum(ΞΩI, dims=1)\n",
        "    ΞΩI .= ΞΩI ./ sum_ΞΩI\n",
        "\n",
        "    return ΞΩI\n",
        "end"
      ],
      "metadata": {
        "colab": {
          "base_uri": "https://localhost:8080/"
        },
        "id": "QEq87LzBhf_l",
        "outputId": "67ea15e2-0749-44e2-f484-f40ef13d80b7"
      },
      "execution_count": 4,
      "outputs": [
        {
          "output_type": "execute_result",
          "data": {
            "text/plain": [
              "φΞΩI (generic function with 1 method)"
            ]
          },
          "metadata": {},
          "execution_count": 4
        }
      ]
    },
    {
      "cell_type": "code",
      "source": [
        "# Chapter 3: System of Equations\n",
        "const ΣW0 = W0\n",
        "\n",
        "function φSYS(Ж, Ю, Б)\n",
        "    X = Ж[1:NS]\n",
        "    C1 = Ж[NS+1:2*NS]\n",
        "    PX, PY = Ж[2*NS+1:2*NS+2]\n",
        "\n",
        "    Πi = Б[1]\n",
        "    θX = ΞθX[Б[2]]\n",
        "    θY = ΞθY[Б[3]]\n",
        "\n",
        "    # Conditional Expected Quantities\n",
        "    SΩπ = φSΩπ(Ю)\n",
        "    SΩ_X_sum = sum(SΩπ .* X', dims=2)\n",
        "    SΩ_C1_sum = sum(SΩπ .* C1', dims=2)\n",
        "\n",
        "    # Aggregate Demand\n",
        "    XΣ = SΩ_X_sum\n",
        "    YΣ = (ΣW0 .- PX .* XΣ .- SΩ_C1_sum) ./ PY\n",
        "\n",
        "    # Learning\n",
        "    Ω = φΞΩI(Ю, XΣ, YΣ)\n",
        "\n",
        "    # FOC's\n",
        "    C2_values = (W0 .- PX .* X' .- C1') ./ PY .+ X' .* Δ2\n",
        "    FOCX_values = β .* sum(Ω .* exp.(-γ .* C2_values) .* (-PX ./ PY .+ Δ2), dims=1)\n",
        "    FOCC1_values = exp.(-γ .* C1') + β .* sum(Ω .* exp.(-γ .* C2_values) .* (-1.0 ./ PY), dims=1)\n",
        "\n",
        "    # Market Clearing\n",
        "    MCX = XΣ[ΞΠi[Πi]] - (θXbar - θX)\n",
        "    MCY = YΣ[ΞΠi[Πi]] - (θYbar - θY)\n",
        "\n",
        "    return vcat(FOCX_values', FOCC1_values', MCX, MCY)\n",
        "end"
      ],
      "metadata": {
        "colab": {
          "base_uri": "https://localhost:8080/"
        },
        "id": "QpwmVwnX5DIT",
        "outputId": "84a4ac6a-9c75-4bf4-878c-d20f815ed007"
      },
      "execution_count": 5,
      "outputs": [
        {
          "output_type": "execute_result",
          "data": {
            "text/plain": [
              "φSYS (generic function with 1 method)"
            ]
          },
          "metadata": {},
          "execution_count": 5
        }
      ]
    },
    {
      "cell_type": "code",
      "source": [
        "# Chapter 4: Zero-Info Starting Point (ξ)\n",
        "const W0ξ = W0\n",
        "\n",
        "# Fixed Point Zero info\n",
        "function φSYSξ(Жξ,Б)\n",
        "    PXξ, PYξ = Жξ[1:2]\n",
        "    θX = ΞθX[Б[2]]\n",
        "    θY = ΞθY[Б[3]]\n",
        "\n",
        "    # Direct solution of MC's\n",
        "    Xξ = (θXbar - θX)\n",
        "    C1ξ = W0ξ - PXξ * (θXbar - θX) - PYξ *(θYbar - θY)\n",
        "\n",
        "    # FOC's\n",
        "    C2ξ_values = (W0ξ - PXξ * Xξ - C1ξ) / PYξ  .+ Xξ .* Δ2\n",
        "    FOCXξ_values = β .* sum(πΩ .* exp.(-γ .* C2ξ_values) .* (-PXξ ./ PYξ .+ Δ2), dims=1)\n",
        "    FOCC1ξ_values = exp.(-γ .* C1ξ) .+ β .* sum(πΩ .* exp.(-γ .* C2ξ_values) .* (-1.0 ./ PYξ), dims=1)\n",
        "\n",
        "    return vcat(FOCXξ_values, FOCC1ξ_values)\n",
        "end\n",
        "\n",
        "# Starting Point of Full Code\n",
        "function φЖ0(Б)\n",
        "    θXi, θYi = Б[2], Б[3]\n",
        "    θX = ΞθX[θXi]\n",
        "    θY = ΞθY[θYi]\n",
        "    solξ = nlsolve(Жξ -> φSYSξ(Жξ, [0, θXi, θYi]), [0.6, 0.7])\n",
        "    PXξ, PYξ = solξ.zero\n",
        "    Ж = zeros(2 * NS + 2)\n",
        "    Ж[1:NS] .= θXbar - θX\n",
        "    Ж[NS+1:2*NS] .= W0ξ .- PXξ * (θXbar .- θX) .- PYξ * (θYbar .- θY)\n",
        "    Ж[2*NS+1:2*NS+2] .= [PXξ, PYξ]\n",
        "    return Ж\n",
        "end\n"
      ],
      "metadata": {
        "id": "nXN8KOCwMNWS",
        "colab": {
          "base_uri": "https://localhost:8080/"
        },
        "outputId": "c8208509-be46-4293-a5dd-c782206dc30c"
      },
      "execution_count": 6,
      "outputs": [
        {
          "output_type": "execute_result",
          "data": {
            "text/plain": [
              "φЖ0 (generic function with 1 method)"
            ]
          },
          "metadata": {},
          "execution_count": 6
        }
      ]
    },
    {
      "cell_type": "code",
      "source": [
        "# Chapter 5: Solution over grid\n",
        "\n",
        "sol_zeros = Array{Array{Float64}, 3}(undef, NΠ, NθX, NθY)\n",
        "\n",
        "for Πi in 1:NΠ\n",
        "    for θXi in 1:NθX\n",
        "        for θYi in 1:NθY\n",
        "            Ж_ini = φЖ0([Πi, θXi, θYi])\n",
        "            for Ю_value in range(0.1, stop=1, length=7)\n",
        "                print(\"\\rProcessing: Πi = $Πi, θXi = $θXi, θYi = $θYi, Ю_value = $Ю_value\")\n",
        "                flush(stdout)\n",
        "                sol = nlsolve(Ж -> φSYS(Ж, [Ю_value], [Πi, θXi, θYi]), Ж_ini)\n",
        "                Ж_ini = sol.zero\n",
        "            end\n",
        "        end\n",
        "    end\n",
        "end\n"
      ],
      "metadata": {
        "colab": {
          "base_uri": "https://localhost:8080/"
        },
        "id": "7_O64mPU14_R",
        "outputId": "bdcf68a4-706d-4d1e-8076-81517426346d"
      },
      "execution_count": 7,
      "outputs": [
        {
          "output_type": "stream",
          "name": "stdout",
          "text": [
            "Processing: Πi = 5, θXi = 5, θYi = 5, Ю_value = 1.0"
          ]
        }
      ]
    },
    {
      "cell_type": "markdown",
      "source": [
        "\n",
        "\n",
        "---\n",
        "\n"
      ],
      "metadata": {
        "id": "czY73ZjbDCmv"
      }
    }
  ]
}